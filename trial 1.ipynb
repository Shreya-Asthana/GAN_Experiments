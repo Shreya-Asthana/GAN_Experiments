{
  "nbformat": 4,
  "nbformat_minor": 0,
  "metadata": {
    "colab": {
      "provenance": [],
      "gpuType": "T4"
    },
    "kernelspec": {
      "name": "python3",
      "display_name": "Python 3"
    },
    "language_info": {
      "name": "python"
    },
    "accelerator": "GPU"
  },
  "cells": [
    {
      "cell_type": "code",
      "source": [
        "!pip install kagglehub torch torchvision"
      ],
      "metadata": {
        "colab": {
          "base_uri": "https://localhost:8080/"
        },
        "id": "2-zeMXeK4p4Y",
        "outputId": "4584c221-9841-4d54-ba2d-f7940d2a87dc"
      },
      "execution_count": 3,
      "outputs": [
        {
          "output_type": "stream",
          "name": "stdout",
          "text": [
            "Requirement already satisfied: kagglehub in /usr/local/lib/python3.11/dist-packages (0.3.12)\n",
            "Requirement already satisfied: torch in /usr/local/lib/python3.11/dist-packages (2.6.0+cu124)\n",
            "Requirement already satisfied: torchvision in /usr/local/lib/python3.11/dist-packages (0.21.0+cu124)\n",
            "Requirement already satisfied: packaging in /usr/local/lib/python3.11/dist-packages (from kagglehub) (24.2)\n",
            "Requirement already satisfied: pyyaml in /usr/local/lib/python3.11/dist-packages (from kagglehub) (6.0.2)\n",
            "Requirement already satisfied: requests in /usr/local/lib/python3.11/dist-packages (from kagglehub) (2.32.3)\n",
            "Requirement already satisfied: tqdm in /usr/local/lib/python3.11/dist-packages (from kagglehub) (4.67.1)\n",
            "Requirement already satisfied: filelock in /usr/local/lib/python3.11/dist-packages (from torch) (3.18.0)\n",
            "Requirement already satisfied: typing-extensions>=4.10.0 in /usr/local/lib/python3.11/dist-packages (from torch) (4.13.2)\n",
            "Requirement already satisfied: networkx in /usr/local/lib/python3.11/dist-packages (from torch) (3.4.2)\n",
            "Requirement already satisfied: jinja2 in /usr/local/lib/python3.11/dist-packages (from torch) (3.1.6)\n",
            "Requirement already satisfied: fsspec in /usr/local/lib/python3.11/dist-packages (from torch) (2025.3.2)\n",
            "Collecting nvidia-cuda-nvrtc-cu12==12.4.127 (from torch)\n",
            "  Downloading nvidia_cuda_nvrtc_cu12-12.4.127-py3-none-manylinux2014_x86_64.whl.metadata (1.5 kB)\n",
            "Collecting nvidia-cuda-runtime-cu12==12.4.127 (from torch)\n",
            "  Downloading nvidia_cuda_runtime_cu12-12.4.127-py3-none-manylinux2014_x86_64.whl.metadata (1.5 kB)\n",
            "Collecting nvidia-cuda-cupti-cu12==12.4.127 (from torch)\n",
            "  Downloading nvidia_cuda_cupti_cu12-12.4.127-py3-none-manylinux2014_x86_64.whl.metadata (1.6 kB)\n",
            "Collecting nvidia-cudnn-cu12==9.1.0.70 (from torch)\n",
            "  Downloading nvidia_cudnn_cu12-9.1.0.70-py3-none-manylinux2014_x86_64.whl.metadata (1.6 kB)\n",
            "Collecting nvidia-cublas-cu12==12.4.5.8 (from torch)\n",
            "  Downloading nvidia_cublas_cu12-12.4.5.8-py3-none-manylinux2014_x86_64.whl.metadata (1.5 kB)\n",
            "Collecting nvidia-cufft-cu12==11.2.1.3 (from torch)\n",
            "  Downloading nvidia_cufft_cu12-11.2.1.3-py3-none-manylinux2014_x86_64.whl.metadata (1.5 kB)\n",
            "Collecting nvidia-curand-cu12==10.3.5.147 (from torch)\n",
            "  Downloading nvidia_curand_cu12-10.3.5.147-py3-none-manylinux2014_x86_64.whl.metadata (1.5 kB)\n",
            "Collecting nvidia-cusolver-cu12==11.6.1.9 (from torch)\n",
            "  Downloading nvidia_cusolver_cu12-11.6.1.9-py3-none-manylinux2014_x86_64.whl.metadata (1.6 kB)\n",
            "Collecting nvidia-cusparse-cu12==12.3.1.170 (from torch)\n",
            "  Downloading nvidia_cusparse_cu12-12.3.1.170-py3-none-manylinux2014_x86_64.whl.metadata (1.6 kB)\n",
            "Requirement already satisfied: nvidia-cusparselt-cu12==0.6.2 in /usr/local/lib/python3.11/dist-packages (from torch) (0.6.2)\n",
            "Requirement already satisfied: nvidia-nccl-cu12==2.21.5 in /usr/local/lib/python3.11/dist-packages (from torch) (2.21.5)\n",
            "Requirement already satisfied: nvidia-nvtx-cu12==12.4.127 in /usr/local/lib/python3.11/dist-packages (from torch) (12.4.127)\n",
            "Collecting nvidia-nvjitlink-cu12==12.4.127 (from torch)\n",
            "  Downloading nvidia_nvjitlink_cu12-12.4.127-py3-none-manylinux2014_x86_64.whl.metadata (1.5 kB)\n",
            "Requirement already satisfied: triton==3.2.0 in /usr/local/lib/python3.11/dist-packages (from torch) (3.2.0)\n",
            "Requirement already satisfied: sympy==1.13.1 in /usr/local/lib/python3.11/dist-packages (from torch) (1.13.1)\n",
            "Requirement already satisfied: mpmath<1.4,>=1.1.0 in /usr/local/lib/python3.11/dist-packages (from sympy==1.13.1->torch) (1.3.0)\n",
            "Requirement already satisfied: numpy in /usr/local/lib/python3.11/dist-packages (from torchvision) (2.0.2)\n",
            "Requirement already satisfied: pillow!=8.3.*,>=5.3.0 in /usr/local/lib/python3.11/dist-packages (from torchvision) (11.2.1)\n",
            "Requirement already satisfied: MarkupSafe>=2.0 in /usr/local/lib/python3.11/dist-packages (from jinja2->torch) (3.0.2)\n",
            "Requirement already satisfied: charset-normalizer<4,>=2 in /usr/local/lib/python3.11/dist-packages (from requests->kagglehub) (3.4.2)\n",
            "Requirement already satisfied: idna<4,>=2.5 in /usr/local/lib/python3.11/dist-packages (from requests->kagglehub) (3.10)\n",
            "Requirement already satisfied: urllib3<3,>=1.21.1 in /usr/local/lib/python3.11/dist-packages (from requests->kagglehub) (2.4.0)\n",
            "Requirement already satisfied: certifi>=2017.4.17 in /usr/local/lib/python3.11/dist-packages (from requests->kagglehub) (2025.4.26)\n",
            "Downloading nvidia_cublas_cu12-12.4.5.8-py3-none-manylinux2014_x86_64.whl (363.4 MB)\n",
            "\u001b[2K   \u001b[90m━━━━━━━━━━━━━━━━━━━━━━━━━━━━━━━━━━━━━━━━\u001b[0m \u001b[32m363.4/363.4 MB\u001b[0m \u001b[31m3.9 MB/s\u001b[0m eta \u001b[36m0:00:00\u001b[0m\n",
            "\u001b[?25hDownloading nvidia_cuda_cupti_cu12-12.4.127-py3-none-manylinux2014_x86_64.whl (13.8 MB)\n",
            "\u001b[2K   \u001b[90m━━━━━━━━━━━━━━━━━━━━━━━━━━━━━━━━━━━━━━━━\u001b[0m \u001b[32m13.8/13.8 MB\u001b[0m \u001b[31m96.3 MB/s\u001b[0m eta \u001b[36m0:00:00\u001b[0m\n",
            "\u001b[?25hDownloading nvidia_cuda_nvrtc_cu12-12.4.127-py3-none-manylinux2014_x86_64.whl (24.6 MB)\n",
            "\u001b[2K   \u001b[90m━━━━━━━━━━━━━━━━━━━━━━━━━━━━━━━━━━━━━━━━\u001b[0m \u001b[32m24.6/24.6 MB\u001b[0m \u001b[31m70.5 MB/s\u001b[0m eta \u001b[36m0:00:00\u001b[0m\n",
            "\u001b[?25hDownloading nvidia_cuda_runtime_cu12-12.4.127-py3-none-manylinux2014_x86_64.whl (883 kB)\n",
            "\u001b[2K   \u001b[90m━━━━━━━━━━━━━━━━━━━━━━━━━━━━━━━━━━━━━━━━\u001b[0m \u001b[32m883.7/883.7 kB\u001b[0m \u001b[31m57.4 MB/s\u001b[0m eta \u001b[36m0:00:00\u001b[0m\n",
            "\u001b[?25hDownloading nvidia_cudnn_cu12-9.1.0.70-py3-none-manylinux2014_x86_64.whl (664.8 MB)\n",
            "\u001b[2K   \u001b[90m━━━━━━━━━━━━━━━━━━━━━━━━━━━━━━━━━━━━━━━\u001b[0m \u001b[32m664.8/664.8 MB\u001b[0m \u001b[31m852.4 kB/s\u001b[0m eta \u001b[36m0:00:00\u001b[0m\n",
            "\u001b[?25hDownloading nvidia_cufft_cu12-11.2.1.3-py3-none-manylinux2014_x86_64.whl (211.5 MB)\n",
            "\u001b[2K   \u001b[90m━━━━━━━━━━━━━━━━━━━━━━━━━━━━━━━━━━━━━━━━\u001b[0m \u001b[32m211.5/211.5 MB\u001b[0m \u001b[31m5.7 MB/s\u001b[0m eta \u001b[36m0:00:00\u001b[0m\n",
            "\u001b[?25hDownloading nvidia_curand_cu12-10.3.5.147-py3-none-manylinux2014_x86_64.whl (56.3 MB)\n",
            "\u001b[2K   \u001b[90m━━━━━━━━━━━━━━━━━━━━━━━━━━━━━━━━━━━━━━━━\u001b[0m \u001b[32m56.3/56.3 MB\u001b[0m \u001b[31m13.9 MB/s\u001b[0m eta \u001b[36m0:00:00\u001b[0m\n",
            "\u001b[?25hDownloading nvidia_cusolver_cu12-11.6.1.9-py3-none-manylinux2014_x86_64.whl (127.9 MB)\n",
            "\u001b[2K   \u001b[90m━━━━━━━━━━━━━━━━━━━━━━━━━━━━━━━━━━━━━━━━\u001b[0m \u001b[32m127.9/127.9 MB\u001b[0m \u001b[31m7.5 MB/s\u001b[0m eta \u001b[36m0:00:00\u001b[0m\n",
            "\u001b[?25hDownloading nvidia_cusparse_cu12-12.3.1.170-py3-none-manylinux2014_x86_64.whl (207.5 MB)\n",
            "\u001b[2K   \u001b[90m━━━━━━━━━━━━━━━━━━━━━━━━━━━━━━━━━━━━━━━━\u001b[0m \u001b[32m207.5/207.5 MB\u001b[0m \u001b[31m5.5 MB/s\u001b[0m eta \u001b[36m0:00:00\u001b[0m\n",
            "\u001b[?25hDownloading nvidia_nvjitlink_cu12-12.4.127-py3-none-manylinux2014_x86_64.whl (21.1 MB)\n",
            "\u001b[2K   \u001b[90m━━━━━━━━━━━━━━━━━━━━━━━━━━━━━━━━━━━━━━━━\u001b[0m \u001b[32m21.1/21.1 MB\u001b[0m \u001b[31m108.3 MB/s\u001b[0m eta \u001b[36m0:00:00\u001b[0m\n",
            "\u001b[?25hInstalling collected packages: nvidia-nvjitlink-cu12, nvidia-curand-cu12, nvidia-cufft-cu12, nvidia-cuda-runtime-cu12, nvidia-cuda-nvrtc-cu12, nvidia-cuda-cupti-cu12, nvidia-cublas-cu12, nvidia-cusparse-cu12, nvidia-cudnn-cu12, nvidia-cusolver-cu12\n",
            "  Attempting uninstall: nvidia-nvjitlink-cu12\n",
            "    Found existing installation: nvidia-nvjitlink-cu12 12.5.82\n",
            "    Uninstalling nvidia-nvjitlink-cu12-12.5.82:\n",
            "      Successfully uninstalled nvidia-nvjitlink-cu12-12.5.82\n",
            "  Attempting uninstall: nvidia-curand-cu12\n",
            "    Found existing installation: nvidia-curand-cu12 10.3.6.82\n",
            "    Uninstalling nvidia-curand-cu12-10.3.6.82:\n",
            "      Successfully uninstalled nvidia-curand-cu12-10.3.6.82\n",
            "  Attempting uninstall: nvidia-cufft-cu12\n",
            "    Found existing installation: nvidia-cufft-cu12 11.2.3.61\n",
            "    Uninstalling nvidia-cufft-cu12-11.2.3.61:\n",
            "      Successfully uninstalled nvidia-cufft-cu12-11.2.3.61\n",
            "  Attempting uninstall: nvidia-cuda-runtime-cu12\n",
            "    Found existing installation: nvidia-cuda-runtime-cu12 12.5.82\n",
            "    Uninstalling nvidia-cuda-runtime-cu12-12.5.82:\n",
            "      Successfully uninstalled nvidia-cuda-runtime-cu12-12.5.82\n",
            "  Attempting uninstall: nvidia-cuda-nvrtc-cu12\n",
            "    Found existing installation: nvidia-cuda-nvrtc-cu12 12.5.82\n",
            "    Uninstalling nvidia-cuda-nvrtc-cu12-12.5.82:\n",
            "      Successfully uninstalled nvidia-cuda-nvrtc-cu12-12.5.82\n",
            "  Attempting uninstall: nvidia-cuda-cupti-cu12\n",
            "    Found existing installation: nvidia-cuda-cupti-cu12 12.5.82\n",
            "    Uninstalling nvidia-cuda-cupti-cu12-12.5.82:\n",
            "      Successfully uninstalled nvidia-cuda-cupti-cu12-12.5.82\n",
            "  Attempting uninstall: nvidia-cublas-cu12\n",
            "    Found existing installation: nvidia-cublas-cu12 12.5.3.2\n",
            "    Uninstalling nvidia-cublas-cu12-12.5.3.2:\n",
            "      Successfully uninstalled nvidia-cublas-cu12-12.5.3.2\n",
            "  Attempting uninstall: nvidia-cusparse-cu12\n",
            "    Found existing installation: nvidia-cusparse-cu12 12.5.1.3\n",
            "    Uninstalling nvidia-cusparse-cu12-12.5.1.3:\n",
            "      Successfully uninstalled nvidia-cusparse-cu12-12.5.1.3\n",
            "  Attempting uninstall: nvidia-cudnn-cu12\n",
            "    Found existing installation: nvidia-cudnn-cu12 9.3.0.75\n",
            "    Uninstalling nvidia-cudnn-cu12-9.3.0.75:\n",
            "      Successfully uninstalled nvidia-cudnn-cu12-9.3.0.75\n",
            "  Attempting uninstall: nvidia-cusolver-cu12\n",
            "    Found existing installation: nvidia-cusolver-cu12 11.6.3.83\n",
            "    Uninstalling nvidia-cusolver-cu12-11.6.3.83:\n",
            "      Successfully uninstalled nvidia-cusolver-cu12-11.6.3.83\n",
            "Successfully installed nvidia-cublas-cu12-12.4.5.8 nvidia-cuda-cupti-cu12-12.4.127 nvidia-cuda-nvrtc-cu12-12.4.127 nvidia-cuda-runtime-cu12-12.4.127 nvidia-cudnn-cu12-9.1.0.70 nvidia-cufft-cu12-11.2.1.3 nvidia-curand-cu12-10.3.5.147 nvidia-cusolver-cu12-11.6.1.9 nvidia-cusparse-cu12-12.3.1.170 nvidia-nvjitlink-cu12-12.4.127\n"
          ]
        }
      ]
    },
    {
      "cell_type": "code",
      "source": [
        "# Move it to the correct location\n",
        "os.makedirs(\"/root/.kaggle\", exist_ok=True)\n",
        "!mv kaggle.json /root/.kaggle/kaggle.json\n",
        "!chmod 600 /root/.kaggle/kaggle.json"
      ],
      "metadata": {
        "id": "P8dH-ByE7Rpr"
      },
      "execution_count": 6,
      "outputs": []
    },
    {
      "cell_type": "code",
      "source": [
        "import kagglehub\n",
        "\n",
        "# Download latest version\n",
        "path = kagglehub.dataset_download(\"splcher/animefacedataset\")\n",
        "\n",
        "print(\"Path to dataset files:\", path)"
      ],
      "metadata": {
        "colab": {
          "base_uri": "https://localhost:8080/"
        },
        "id": "ZnHjtWNo35l2",
        "outputId": "8f5455c3-5e5a-4ab4-aceb-0ab5e6fde9ab"
      },
      "execution_count": 7,
      "outputs": [
        {
          "output_type": "stream",
          "name": "stdout",
          "text": [
            "Downloading from https://www.kaggle.com/api/v1/datasets/download/splcher/animefacedataset?dataset_version_number=3...\n"
          ]
        },
        {
          "output_type": "stream",
          "name": "stderr",
          "text": [
            "100%|██████████| 395M/395M [00:08<00:00, 51.7MB/s]"
          ]
        },
        {
          "output_type": "stream",
          "name": "stdout",
          "text": [
            "Extracting files...\n"
          ]
        },
        {
          "output_type": "stream",
          "name": "stderr",
          "text": [
            "\n"
          ]
        },
        {
          "output_type": "stream",
          "name": "stdout",
          "text": [
            "Path to dataset files: /root/.cache/kagglehub/datasets/splcher/animefacedataset/versions/3\n"
          ]
        }
      ]
    },
    {
      "cell_type": "code",
      "source": [
        "import os\n",
        "print(\"Files in path:\")\n",
        "print(os.listdir(path))\n"
      ],
      "metadata": {
        "colab": {
          "base_uri": "https://localhost:8080/"
        },
        "id": "Zc7jN5rv8Ftb",
        "outputId": "33466c03-887a-48f1-b2b9-1f44a92a3aff"
      },
      "execution_count": 10,
      "outputs": [
        {
          "output_type": "stream",
          "name": "stdout",
          "text": [
            "Files in path:\n",
            "['images']\n"
          ]
        }
      ]
    },
    {
      "cell_type": "code",
      "source": [
        "import os\n",
        "from PIL import Image\n",
        "from torchvision import transforms\n",
        "from torch.utils.data import Dataset, DataLoader\n",
        "\n",
        "image_path = os.path.join(path, \"images\")  # Correct subfolder\n",
        "\n",
        "# Step 2: Dataset class\n",
        "class AnimeFaceDataset(Dataset):\n",
        "    def __init__(self, root_dir, transform=None):\n",
        "        self.root_dir = root_dir\n",
        "        self.image_paths = [os.path.join(root_dir, fname)\n",
        "                            for fname in os.listdir(root_dir)\n",
        "                            if fname.lower().endswith(('.jpg', '.jpeg', '.png'))]\n",
        "        self.transform = transform\n",
        "\n",
        "        print(f\"✅ Found {len(self.image_paths)} images in {self.root_dir}\")\n",
        "\n",
        "    def __len__(self):\n",
        "        return len(self.image_paths)\n",
        "\n",
        "    def __getitem__(self, idx):\n",
        "        img = Image.open(self.image_paths[idx]).convert(\"RGB\")\n",
        "        if self.transform:\n",
        "            img = self.transform(img)\n",
        "        return img\n",
        "\n",
        "# Step 3: Transform\n",
        "transform = transforms.Compose([\n",
        "    transforms.Resize(64),\n",
        "    transforms.CenterCrop(64),\n",
        "    transforms.ToTensor(),\n",
        "    transforms.Normalize([0.5]*3, [0.5]*3)\n",
        "])\n",
        "\n",
        "# Step 4: Load\n",
        "dataset = AnimeFaceDataset(image_path, transform)\n",
        "loader = DataLoader(dataset, batch_size=128, shuffle=True, num_workers=2)\n"
      ],
      "metadata": {
        "colab": {
          "base_uri": "https://localhost:8080/"
        },
        "id": "mLmlj7fh3SSC",
        "outputId": "b6cce194-aa9c-4f44-91d5-2d670509e6f4"
      },
      "execution_count": 11,
      "outputs": [
        {
          "output_type": "stream",
          "name": "stdout",
          "text": [
            "✅ Found 63565 images in /root/.cache/kagglehub/datasets/splcher/animefacedataset/versions/3/images\n"
          ]
        }
      ]
    },
    {
      "cell_type": "code",
      "source": [
        "import torch.nn as nn\n",
        "class AnimeGenerator(nn.Module):\n",
        "    def __init__(self, z_dim=100, img_channels=3):\n",
        "        super().__init__()\n",
        "        self.net = nn.Sequential(\n",
        "            nn.ConvTranspose2d(z_dim, 512, 4, 1, 0),  # 4x4\n",
        "            nn.BatchNorm2d(512),\n",
        "            nn.ReLU(True),\n",
        "\n",
        "            nn.ConvTranspose2d(512, 256, 4, 2, 1),    # 8x8\n",
        "            nn.BatchNorm2d(256),\n",
        "            nn.ReLU(True),\n",
        "\n",
        "            nn.ConvTranspose2d(256, 128, 4, 2, 1),    # 16x16\n",
        "            nn.BatchNorm2d(128),\n",
        "            nn.ReLU(True),\n",
        "\n",
        "            nn.ConvTranspose2d(128, 64, 4, 2, 1),     # 32x32\n",
        "            nn.BatchNorm2d(64),\n",
        "            nn.ReLU(True),\n",
        "\n",
        "            nn.ConvTranspose2d(64, img_channels, 4, 2, 1),  # 64x64\n",
        "            nn.Tanh()\n",
        "        )\n",
        "\n",
        "    def forward(self, z):\n",
        "        return self.net(z.view(z.size(0), z.size(1), 1, 1))\n"
      ],
      "metadata": {
        "id": "R3mcNpmn3WIE"
      },
      "execution_count": 13,
      "outputs": []
    },
    {
      "cell_type": "code",
      "source": [
        "class AnimeDiscriminator(nn.Module):\n",
        "    def __init__(self, img_channels=3):\n",
        "        super().__init__()\n",
        "        self.net = nn.Sequential(\n",
        "            nn.Conv2d(img_channels, 64, 4, 2, 1),     # 32x32\n",
        "            nn.LeakyReLU(0.2, inplace=True),\n",
        "\n",
        "            nn.Conv2d(64, 128, 4, 2, 1),              # 16x16\n",
        "            nn.BatchNorm2d(128),\n",
        "            nn.LeakyReLU(0.2, inplace=True),\n",
        "\n",
        "            nn.Conv2d(128, 256, 4, 2, 1),             # 8x8\n",
        "            nn.BatchNorm2d(256),\n",
        "            nn.LeakyReLU(0.2, inplace=True),\n",
        "\n",
        "            nn.Conv2d(256, 512, 4, 2, 1),             # 4x4\n",
        "            nn.BatchNorm2d(512),\n",
        "            nn.LeakyReLU(0.2, inplace=True),\n",
        "\n",
        "            nn.Conv2d(512, 1, 4, 1, 0),               # 1x1\n",
        "            nn.Sigmoid()\n",
        "        )\n",
        "\n",
        "    def forward(self, x):\n",
        "        return self.net(x).view(-1, 1)\n"
      ],
      "metadata": {
        "id": "_tvocd-c3Y2u"
      },
      "execution_count": 14,
      "outputs": []
    },
    {
      "cell_type": "code",
      "source": [
        "import torch\n",
        "import torch.nn as nn\n",
        "import matplotlib.pyplot as plt\n",
        "import torchvision.utils as vutils\n",
        "\n",
        "# Init models\n",
        "device = 'cuda' if torch.cuda.is_available() else 'cpu'\n",
        "G = AnimeGenerator().to(device)\n",
        "D = AnimeDiscriminator().to(device)\n",
        "\n",
        "# Loss and optimizers\n",
        "loss_fn = nn.BCELoss()\n",
        "opt_G = torch.optim.Adam(G.parameters(), lr=0.0002, betas=(0.5, 0.999))\n",
        "opt_D = torch.optim.Adam(D.parameters(), lr=0.0002, betas=(0.5, 0.999))\n",
        "\n",
        "# Fixed noise for viewing generator output\n",
        "fixed_noise = torch.randn(1, 100, device=device)\n",
        "\n",
        "# Train loop\n",
        "G.train()\n",
        "D.train()\n",
        "for epoch in range(10):\n",
        "    for batch_idx, real_imgs in enumerate(loader):\n",
        "        real_imgs = real_imgs.to(device)\n",
        "        batch_size = real_imgs.size(0)\n",
        "\n",
        "        # === Labels ===\n",
        "        real_labels = torch.ones((batch_size, 1), device=device)\n",
        "        fake_labels = torch.zeros((batch_size, 1), device=device)\n",
        "\n",
        "        # === Train Discriminator ===\n",
        "        noise = torch.randn(batch_size, 100, device=device)\n",
        "        fake_imgs = G(noise).detach()\n",
        "\n",
        "        D_real = D(real_imgs)\n",
        "        D_fake = D(fake_imgs)\n",
        "\n",
        "        loss_D_real = loss_fn(D_real, real_labels)\n",
        "        loss_D_fake = loss_fn(D_fake, fake_labels)\n",
        "        loss_D = loss_D_real + loss_D_fake\n",
        "\n",
        "        opt_D.zero_grad()\n",
        "        loss_D.backward()\n",
        "        opt_D.step()\n",
        "\n",
        "        # === Train Generator ===\n",
        "        noise = torch.randn(batch_size, 100, device=device)\n",
        "        fake_imgs = G(noise)\n",
        "        D_fake = D(fake_imgs)\n",
        "        loss_G = loss_fn(D_fake, real_labels)\n",
        "\n",
        "        opt_G.zero_grad()\n",
        "        loss_G.backward()\n",
        "        opt_G.step()\n",
        "\n",
        "        if batch_idx % 50 == 0:\n",
        "            print(f\"[{batch_idx}/{len(loader)}] Loss D: {loss_D.item():.4f} | Loss G: {loss_G.item():.4f}\")\n",
        "\n",
        "# === Show 1 sample image ===\n",
        "G.eval()\n",
        "with torch.no_grad():\n",
        "    sample_img = G(fixed_noise).detach().cpu()\n",
        "    sample_img = vutils.make_grid(sample_img, normalize=True)\n",
        "    plt.figure(figsize=(4,4))\n",
        "    plt.imshow(sample_img.permute(1, 2, 0))\n",
        "    plt.title(\"Generated Anime Face\")\n",
        "    plt.axis(\"off\")\n",
        "    plt.show()\n"
      ],
      "metadata": {
        "colab": {
          "base_uri": "https://localhost:8080/",
          "height": 1000
        },
        "id": "gH4XRiLa3wUM",
        "outputId": "a7461ecd-ffb1-4a04-f04c-3eb1ccb9118c"
      },
      "execution_count": 17,
      "outputs": [
        {
          "output_type": "stream",
          "name": "stdout",
          "text": [
            "[0/497] Loss D: 1.3505 | Loss G: 1.7790\n",
            "[50/497] Loss D: 0.3706 | Loss G: 3.5109\n",
            "[100/497] Loss D: 0.8430 | Loss G: 4.8375\n",
            "[150/497] Loss D: 0.6867 | Loss G: 3.8230\n",
            "[200/497] Loss D: 0.6867 | Loss G: 4.6013\n",
            "[250/497] Loss D: 0.4528 | Loss G: 2.4935\n",
            "[300/497] Loss D: 0.6182 | Loss G: 9.2460\n",
            "[350/497] Loss D: 0.6024 | Loss G: 5.9774\n",
            "[400/497] Loss D: 0.5076 | Loss G: 4.2873\n",
            "[450/497] Loss D: 0.4472 | Loss G: 4.1368\n",
            "[0/497] Loss D: 0.5937 | Loss G: 3.7473\n",
            "[50/497] Loss D: 0.3903 | Loss G: 4.1901\n",
            "[100/497] Loss D: 0.4648 | Loss G: 4.9864\n",
            "[150/497] Loss D: 1.0669 | Loss G: 2.5006\n",
            "[200/497] Loss D: 0.8735 | Loss G: 7.7249\n",
            "[250/497] Loss D: 0.5249 | Loss G: 4.0356\n",
            "[300/497] Loss D: 0.3316 | Loss G: 4.8760\n",
            "[350/497] Loss D: 0.7821 | Loss G: 10.0163\n",
            "[400/497] Loss D: 0.7110 | Loss G: 3.3800\n",
            "[450/497] Loss D: 0.4937 | Loss G: 7.2175\n",
            "[0/497] Loss D: 0.4235 | Loss G: 6.3605\n",
            "[50/497] Loss D: 0.2727 | Loss G: 2.7717\n",
            "[100/497] Loss D: 0.3200 | Loss G: 4.9433\n",
            "[150/497] Loss D: 0.4133 | Loss G: 5.2528\n",
            "[200/497] Loss D: 0.9723 | Loss G: 3.2628\n",
            "[250/497] Loss D: 0.3230 | Loss G: 3.6683\n",
            "[300/497] Loss D: 0.3911 | Loss G: 4.9378\n",
            "[350/497] Loss D: 0.3474 | Loss G: 5.5667\n",
            "[400/497] Loss D: 0.3316 | Loss G: 4.4934\n",
            "[450/497] Loss D: 0.1739 | Loss G: 3.8910\n",
            "[0/497] Loss D: 0.8934 | Loss G: 9.1774\n",
            "[50/497] Loss D: 0.1998 | Loss G: 4.1944\n",
            "[100/497] Loss D: 0.1712 | Loss G: 3.7465\n",
            "[150/497] Loss D: 0.4417 | Loss G: 5.0361\n",
            "[200/497] Loss D: 0.4511 | Loss G: 4.4885\n",
            "[250/497] Loss D: 0.2250 | Loss G: 3.9493\n",
            "[300/497] Loss D: 0.3035 | Loss G: 4.6910\n",
            "[350/497] Loss D: 0.2118 | Loss G: 4.5161\n",
            "[400/497] Loss D: 0.5629 | Loss G: 10.0891\n",
            "[450/497] Loss D: 0.2540 | Loss G: 6.6400\n",
            "[0/497] Loss D: 0.8576 | Loss G: 12.9892\n",
            "[50/497] Loss D: 0.2912 | Loss G: 7.7641\n",
            "[100/497] Loss D: 0.0354 | Loss G: 3.9247\n",
            "[150/497] Loss D: 0.2197 | Loss G: 4.0262\n",
            "[200/497] Loss D: 0.6288 | Loss G: 10.3911\n",
            "[250/497] Loss D: 0.1603 | Loss G: 6.1765\n",
            "[300/497] Loss D: 0.1606 | Loss G: 5.1977\n",
            "[350/497] Loss D: 0.2558 | Loss G: 6.5254\n",
            "[400/497] Loss D: 0.1848 | Loss G: 3.7865\n",
            "[450/497] Loss D: 0.1984 | Loss G: 6.5307\n",
            "[0/497] Loss D: 0.2254 | Loss G: 5.0929\n",
            "[50/497] Loss D: 0.2173 | Loss G: 5.9090\n",
            "[100/497] Loss D: 0.0168 | Loss G: 3.0162\n",
            "[150/497] Loss D: 0.0821 | Loss G: 5.1005\n",
            "[200/497] Loss D: 0.3363 | Loss G: 10.9804\n",
            "[250/497] Loss D: 0.3889 | Loss G: 7.8565\n",
            "[300/497] Loss D: 1.3275 | Loss G: 7.3748\n",
            "[350/497] Loss D: 0.2581 | Loss G: 7.7476\n",
            "[400/497] Loss D: 0.1881 | Loss G: 4.5921\n",
            "[450/497] Loss D: 0.2853 | Loss G: 5.7316\n",
            "[0/497] Loss D: 0.2255 | Loss G: 7.2900\n",
            "[50/497] Loss D: 0.2405 | Loss G: 7.5412\n",
            "[100/497] Loss D: 0.3177 | Loss G: 3.6700\n",
            "[150/497] Loss D: 0.3440 | Loss G: 3.3624\n",
            "[200/497] Loss D: 0.5188 | Loss G: 3.0614\n",
            "[250/497] Loss D: 0.2034 | Loss G: 7.2301\n",
            "[300/497] Loss D: 0.2180 | Loss G: 4.8868\n",
            "[350/497] Loss D: 0.2399 | Loss G: 8.5008\n",
            "[400/497] Loss D: 0.1469 | Loss G: 5.9962\n",
            "[450/497] Loss D: 0.2085 | Loss G: 5.5293\n",
            "[0/497] Loss D: 0.2505 | Loss G: 9.4331\n",
            "[50/497] Loss D: 0.0455 | Loss G: 7.9477\n",
            "[100/497] Loss D: 0.2309 | Loss G: 5.1806\n",
            "[150/497] Loss D: 0.0606 | Loss G: 10.7490\n",
            "[200/497] Loss D: 0.0766 | Loss G: 6.7179\n",
            "[250/497] Loss D: 0.7311 | Loss G: 14.2348\n",
            "[300/497] Loss D: 0.0587 | Loss G: 6.9361\n",
            "[350/497] Loss D: 0.1817 | Loss G: 5.7924\n",
            "[400/497] Loss D: 0.3304 | Loss G: 5.8320\n",
            "[450/497] Loss D: 0.1763 | Loss G: 6.7770\n",
            "[0/497] Loss D: 0.1143 | Loss G: 5.1785\n",
            "[50/497] Loss D: 0.1014 | Loss G: 5.8879\n",
            "[100/497] Loss D: 0.3077 | Loss G: 12.1463\n",
            "[150/497] Loss D: 0.2530 | Loss G: 9.8454\n",
            "[200/497] Loss D: 0.1616 | Loss G: 7.2672\n",
            "[250/497] Loss D: 1.8006 | Loss G: 24.8470\n",
            "[300/497] Loss D: 0.0307 | Loss G: 8.2856\n",
            "[350/497] Loss D: 0.1176 | Loss G: 7.5953\n",
            "[400/497] Loss D: 0.2022 | Loss G: 4.8281\n",
            "[450/497] Loss D: 0.1021 | Loss G: 5.3387\n",
            "[0/497] Loss D: 0.0562 | Loss G: 5.1411\n",
            "[50/497] Loss D: 0.0584 | Loss G: 6.8513\n",
            "[100/497] Loss D: 0.1099 | Loss G: 6.6833\n",
            "[150/497] Loss D: 0.0356 | Loss G: 5.5984\n",
            "[200/497] Loss D: 0.1162 | Loss G: 6.7517\n",
            "[250/497] Loss D: 0.1012 | Loss G: 6.4867\n",
            "[300/497] Loss D: 0.2643 | Loss G: 6.1129\n",
            "[350/497] Loss D: 1.0665 | Loss G: 4.8052\n",
            "[400/497] Loss D: 0.0766 | Loss G: 6.4033\n",
            "[450/497] Loss D: 0.0786 | Loss G: 6.3387\n"
          ]
        },
        {
          "output_type": "display_data",
          "data": {
            "text/plain": [
              "<Figure size 400x400 with 1 Axes>"
            ],
            "image/png": "[encoded data removed]"
          },
          "metadata": {}
        }
      ]
    }
  ]
}
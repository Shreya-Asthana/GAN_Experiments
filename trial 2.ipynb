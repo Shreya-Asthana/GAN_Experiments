{
  "nbformat": 4,
  "nbformat_minor": 0,
  "metadata": {
    "colab": {
      "provenance": [],
      "gpuType": "T4"
    },
    "kernelspec": {
      "name": "python3",
      "display_name": "Python 3"
    },
    "language_info": {
      "name": "python"
    },
    "accelerator": "GPU"
  },
  "cells": [
    {
      "cell_type": "code",
      "source": [
        "!pip install kagglehub torch torchvision"
      ],
      "metadata": {
        "colab": {
          "base_uri": "https://localhost:8080/"
        },
        "id": "2-zeMXeK4p4Y",
        "outputId": "23a05325-8616-4d78-95b1-faa2dcdbbb71"
      },
      "execution_count": 1,
      "outputs": [
        {
          "output_type": "stream",
          "name": "stdout",
          "text": [
            "Requirement already satisfied: kagglehub in /usr/local/lib/python3.11/dist-packages (0.3.12)\n",
            "Requirement already satisfied: torch in /usr/local/lib/python3.11/dist-packages (2.6.0+cu124)\n",
            "Requirement already satisfied: torchvision in /usr/local/lib/python3.11/dist-packages (0.21.0+cu124)\n",
            "Requirement already satisfied: packaging in /usr/local/lib/python3.11/dist-packages (from kagglehub) (24.2)\n",
            "Requirement already satisfied: pyyaml in /usr/local/lib/python3.11/dist-packages (from kagglehub) (6.0.2)\n",
            "Requirement already satisfied: requests in /usr/local/lib/python3.11/dist-packages (from kagglehub) (2.32.3)\n",
            "Requirement already satisfied: tqdm in /usr/local/lib/python3.11/dist-packages (from kagglehub) (4.67.1)\n",
            "Requirement already satisfied: filelock in /usr/local/lib/python3.11/dist-packages (from torch) (3.18.0)\n",
            "Requirement already satisfied: typing-extensions>=4.10.0 in /usr/local/lib/python3.11/dist-packages (from torch) (4.13.2)\n",
            "Requirement already satisfied: networkx in /usr/local/lib/python3.11/dist-packages (from torch) (3.4.2)\n",
            "Requirement already satisfied: jinja2 in /usr/local/lib/python3.11/dist-packages (from torch) (3.1.6)\n",
            "Requirement already satisfied: fsspec in /usr/local/lib/python3.11/dist-packages (from torch) (2025.3.2)\n",
            "Collecting nvidia-cuda-nvrtc-cu12==12.4.127 (from torch)\n",
            "  Downloading nvidia_cuda_nvrtc_cu12-12.4.127-py3-none-manylinux2014_x86_64.whl.metadata (1.5 kB)\n",
            "Collecting nvidia-cuda-runtime-cu12==12.4.127 (from torch)\n",
            "  Downloading nvidia_cuda_runtime_cu12-12.4.127-py3-none-manylinux2014_x86_64.whl.metadata (1.5 kB)\n",
            "Collecting nvidia-cuda-cupti-cu12==12.4.127 (from torch)\n",
            "  Downloading nvidia_cuda_cupti_cu12-12.4.127-py3-none-manylinux2014_x86_64.whl.metadata (1.6 kB)\n",
            "Collecting nvidia-cudnn-cu12==9.1.0.70 (from torch)\n",
            "  Downloading nvidia_cudnn_cu12-9.1.0.70-py3-none-manylinux2014_x86_64.whl.metadata (1.6 kB)\n",
            "Collecting nvidia-cublas-cu12==12.4.5.8 (from torch)\n",
            "  Downloading nvidia_cublas_cu12-12.4.5.8-py3-none-manylinux2014_x86_64.whl.metadata (1.5 kB)\n",
            "Collecting nvidia-cufft-cu12==11.2.1.3 (from torch)\n",
            "  Downloading nvidia_cufft_cu12-11.2.1.3-py3-none-manylinux2014_x86_64.whl.metadata (1.5 kB)\n",
            "Collecting nvidia-curand-cu12==10.3.5.147 (from torch)\n",
            "  Downloading nvidia_curand_cu12-10.3.5.147-py3-none-manylinux2014_x86_64.whl.metadata (1.5 kB)\n",
            "Collecting nvidia-cusolver-cu12==11.6.1.9 (from torch)\n",
            "  Downloading nvidia_cusolver_cu12-11.6.1.9-py3-none-manylinux2014_x86_64.whl.metadata (1.6 kB)\n",
            "Collecting nvidia-cusparse-cu12==12.3.1.170 (from torch)\n",
            "  Downloading nvidia_cusparse_cu12-12.3.1.170-py3-none-manylinux2014_x86_64.whl.metadata (1.6 kB)\n",
            "Requirement already satisfied: nvidia-cusparselt-cu12==0.6.2 in /usr/local/lib/python3.11/dist-packages (from torch) (0.6.2)\n",
            "Requirement already satisfied: nvidia-nccl-cu12==2.21.5 in /usr/local/lib/python3.11/dist-packages (from torch) (2.21.5)\n",
            "Requirement already satisfied: nvidia-nvtx-cu12==12.4.127 in /usr/local/lib/python3.11/dist-packages (from torch) (12.4.127)\n",
            "Collecting nvidia-nvjitlink-cu12==12.4.127 (from torch)\n",
            "  Downloading nvidia_nvjitlink_cu12-12.4.127-py3-none-manylinux2014_x86_64.whl.metadata (1.5 kB)\n",
            "Requirement already satisfied: triton==3.2.0 in /usr/local/lib/python3.11/dist-packages (from torch) (3.2.0)\n",
            "Requirement already satisfied: sympy==1.13.1 in /usr/local/lib/python3.11/dist-packages (from torch) (1.13.1)\n",
            "Requirement already satisfied: mpmath<1.4,>=1.1.0 in /usr/local/lib/python3.11/dist-packages (from sympy==1.13.1->torch) (1.3.0)\n",
            "Requirement already satisfied: numpy in /usr/local/lib/python3.11/dist-packages (from torchvision) (2.0.2)\n",
            "Requirement already satisfied: pillow!=8.3.*,>=5.3.0 in /usr/local/lib/python3.11/dist-packages (from torchvision) (11.2.1)\n",
            "Requirement already satisfied: MarkupSafe>=2.0 in /usr/local/lib/python3.11/dist-packages (from jinja2->torch) (3.0.2)\n",
            "Requirement already satisfied: charset-normalizer<4,>=2 in /usr/local/lib/python3.11/dist-packages (from requests->kagglehub) (3.4.2)\n",
            "Requirement already satisfied: idna<4,>=2.5 in /usr/local/lib/python3.11/dist-packages (from requests->kagglehub) (3.10)\n",
            "Requirement already satisfied: urllib3<3,>=1.21.1 in /usr/local/lib/python3.11/dist-packages (from requests->kagglehub) (2.4.0)\n",
            "Requirement already satisfied: certifi>=2017.4.17 in /usr/local/lib/python3.11/dist-packages (from requests->kagglehub) (2025.4.26)\n",
            "Downloading nvidia_cublas_cu12-12.4.5.8-py3-none-manylinux2014_x86_64.whl (363.4 MB)\n",
            "\u001b[2K   \u001b[90m━━━━━━━━━━━━━━━━━━━━━━━━━━━━━━━━━━━━━━━━\u001b[0m \u001b[32m363.4/363.4 MB\u001b[0m \u001b[31m3.4 MB/s\u001b[0m eta \u001b[36m0:00:00\u001b[0m\n",
            "\u001b[?25hDownloading nvidia_cuda_cupti_cu12-12.4.127-py3-none-manylinux2014_x86_64.whl (13.8 MB)\n",
            "\u001b[2K   \u001b[90m━━━━━━━━━━━━━━━━━━━━━━━━━━━━━━━━━━━━━━━━\u001b[0m \u001b[32m13.8/13.8 MB\u001b[0m \u001b[31m31.7 MB/s\u001b[0m eta \u001b[36m0:00:00\u001b[0m\n",
            "\u001b[?25hDownloading nvidia_cuda_nvrtc_cu12-12.4.127-py3-none-manylinux2014_x86_64.whl (24.6 MB)\n",
            "\u001b[2K   \u001b[90m━━━━━━━━━━━━━━━━━━━━━━━━━━━━━━━━━━━━━━━━\u001b[0m \u001b[32m24.6/24.6 MB\u001b[0m \u001b[31m48.0 MB/s\u001b[0m eta \u001b[36m0:00:00\u001b[0m\n",
            "\u001b[?25hDownloading nvidia_cuda_runtime_cu12-12.4.127-py3-none-manylinux2014_x86_64.whl (883 kB)\n",
            "\u001b[2K   \u001b[90m━━━━━━━━━━━━━━━━━━━━━━━━━━━━━━━━━━━━━━━━\u001b[0m \u001b[32m883.7/883.7 kB\u001b[0m \u001b[31m38.3 MB/s\u001b[0m eta \u001b[36m0:00:00\u001b[0m\n",
            "\u001b[?25hDownloading nvidia_cudnn_cu12-9.1.0.70-py3-none-manylinux2014_x86_64.whl (664.8 MB)\n",
            "\u001b[2K   \u001b[90m━━━━━━━━━━━━━━━━━━━━━━━━━━━━━━━━━━━━━━━━\u001b[0m \u001b[32m664.8/664.8 MB\u001b[0m \u001b[31m2.9 MB/s\u001b[0m eta \u001b[36m0:00:00\u001b[0m\n",
            "\u001b[?25hDownloading nvidia_cufft_cu12-11.2.1.3-py3-none-manylinux2014_x86_64.whl (211.5 MB)\n",
            "\u001b[2K   \u001b[90m━━━━━━━━━━━━━━━━━━━━━━━━━━━━━━━━━━━━━━━━\u001b[0m \u001b[32m211.5/211.5 MB\u001b[0m \u001b[31m5.5 MB/s\u001b[0m eta \u001b[36m0:00:00\u001b[0m\n",
            "\u001b[?25hDownloading nvidia_curand_cu12-10.3.5.147-py3-none-manylinux2014_x86_64.whl (56.3 MB)\n",
            "\u001b[2K   \u001b[90m━━━━━━━━━━━━━━━━━━━━━━━━━━━━━━━━━━━━━━━━\u001b[0m \u001b[32m56.3/56.3 MB\u001b[0m \u001b[31m24.1 MB/s\u001b[0m eta \u001b[36m0:00:00\u001b[0m\n",
            "\u001b[?25hDownloading nvidia_cusolver_cu12-11.6.1.9-py3-none-manylinux2014_x86_64.whl (127.9 MB)\n",
            "\u001b[2K   \u001b[90m━━━━━━━━━━━━━━━━━━━━━━━━━━━━━━━━━━━━━━━━\u001b[0m \u001b[32m127.9/127.9 MB\u001b[0m \u001b[31m6.8 MB/s\u001b[0m eta \u001b[36m0:00:00\u001b[0m\n",
            "\u001b[?25hDownloading nvidia_cusparse_cu12-12.3.1.170-py3-none-manylinux2014_x86_64.whl (207.5 MB)\n",
            "\u001b[2K   \u001b[90m━━━━━━━━━━━━━━━━━━━━━━━━━━━━━━━━━━━━━━━━\u001b[0m \u001b[32m207.5/207.5 MB\u001b[0m \u001b[31m6.6 MB/s\u001b[0m eta \u001b[36m0:00:00\u001b[0m\n",
            "\u001b[?25hDownloading nvidia_nvjitlink_cu12-12.4.127-py3-none-manylinux2014_x86_64.whl (21.1 MB)\n",
            "\u001b[2K   \u001b[90m━━━━━━━━━━━━━━━━━━━━━━━━━━━━━━━━━━━━━━━━\u001b[0m \u001b[32m21.1/21.1 MB\u001b[0m \u001b[31m108.9 MB/s\u001b[0m eta \u001b[36m0:00:00\u001b[0m\n",
            "\u001b[?25hInstalling collected packages: nvidia-nvjitlink-cu12, nvidia-curand-cu12, nvidia-cufft-cu12, nvidia-cuda-runtime-cu12, nvidia-cuda-nvrtc-cu12, nvidia-cuda-cupti-cu12, nvidia-cublas-cu12, nvidia-cusparse-cu12, nvidia-cudnn-cu12, nvidia-cusolver-cu12\n",
            "  Attempting uninstall: nvidia-nvjitlink-cu12\n",
            "    Found existing installation: nvidia-nvjitlink-cu12 12.5.82\n",
            "    Uninstalling nvidia-nvjitlink-cu12-12.5.82:\n",
            "      Successfully uninstalled nvidia-nvjitlink-cu12-12.5.82\n",
            "  Attempting uninstall: nvidia-curand-cu12\n",
            "    Found existing installation: nvidia-curand-cu12 10.3.6.82\n",
            "    Uninstalling nvidia-curand-cu12-10.3.6.82:\n",
            "      Successfully uninstalled nvidia-curand-cu12-10.3.6.82\n",
            "  Attempting uninstall: nvidia-cufft-cu12\n",
            "    Found existing installation: nvidia-cufft-cu12 11.2.3.61\n",
            "    Uninstalling nvidia-cufft-cu12-11.2.3.61:\n",
            "      Successfully uninstalled nvidia-cufft-cu12-11.2.3.61\n",
            "  Attempting uninstall: nvidia-cuda-runtime-cu12\n",
            "    Found existing installation: nvidia-cuda-runtime-cu12 12.5.82\n",
            "    Uninstalling nvidia-cuda-runtime-cu12-12.5.82:\n",
            "      Successfully uninstalled nvidia-cuda-runtime-cu12-12.5.82\n",
            "  Attempting uninstall: nvidia-cuda-nvrtc-cu12\n",
            "    Found existing installation: nvidia-cuda-nvrtc-cu12 12.5.82\n",
            "    Uninstalling nvidia-cuda-nvrtc-cu12-12.5.82:\n",
            "      Successfully uninstalled nvidia-cuda-nvrtc-cu12-12.5.82\n",
            "  Attempting uninstall: nvidia-cuda-cupti-cu12\n",
            "    Found existing installation: nvidia-cuda-cupti-cu12 12.5.82\n",
            "    Uninstalling nvidia-cuda-cupti-cu12-12.5.82:\n",
            "      Successfully uninstalled nvidia-cuda-cupti-cu12-12.5.82\n",
            "  Attempting uninstall: nvidia-cublas-cu12\n",
            "    Found existing installation: nvidia-cublas-cu12 12.5.3.2\n",
            "    Uninstalling nvidia-cublas-cu12-12.5.3.2:\n",
            "      Successfully uninstalled nvidia-cublas-cu12-12.5.3.2\n",
            "  Attempting uninstall: nvidia-cusparse-cu12\n",
            "    Found existing installation: nvidia-cusparse-cu12 12.5.1.3\n",
            "    Uninstalling nvidia-cusparse-cu12-12.5.1.3:\n",
            "      Successfully uninstalled nvidia-cusparse-cu12-12.5.1.3\n",
            "  Attempting uninstall: nvidia-cudnn-cu12\n",
            "    Found existing installation: nvidia-cudnn-cu12 9.3.0.75\n",
            "    Uninstalling nvidia-cudnn-cu12-9.3.0.75:\n",
            "      Successfully uninstalled nvidia-cudnn-cu12-9.3.0.75\n",
            "  Attempting uninstall: nvidia-cusolver-cu12\n",
            "    Found existing installation: nvidia-cusolver-cu12 11.6.3.83\n",
            "    Uninstalling nvidia-cusolver-cu12-11.6.3.83:\n",
            "      Successfully uninstalled nvidia-cusolver-cu12-11.6.3.83\n",
            "Successfully installed nvidia-cublas-cu12-12.4.5.8 nvidia-cuda-cupti-cu12-12.4.127 nvidia-cuda-nvrtc-cu12-12.4.127 nvidia-cuda-runtime-cu12-12.4.127 nvidia-cudnn-cu12-9.1.0.70 nvidia-cufft-cu12-11.2.1.3 nvidia-curand-cu12-10.3.5.147 nvidia-cusolver-cu12-11.6.1.9 nvidia-cusparse-cu12-12.3.1.170 nvidia-nvjitlink-cu12-12.4.127\n"
          ]
        }
      ]
    },
    {
      "cell_type": "code",
      "source": [
        "import os\n",
        "# Move it to the correct location\n",
        "os.makedirs(\"/root/.kaggle\", exist_ok=True)\n",
        "!mv kaggle.json /root/.kaggle/kaggle.json\n",
        "!chmod 600 /root/.kaggle/kaggle.json"
      ],
      "metadata": {
        "id": "P8dH-ByE7Rpr"
      },
      "execution_count": 5,
      "outputs": []
    },
    {
      "cell_type": "code",
      "source": [
        "import kagglehub\n",
        "\n",
        "# Download latest version\n",
        "path = kagglehub.dataset_download(\"splcher/animefacedataset\")\n",
        "\n",
        "print(\"Path to dataset files:\", path)"
      ],
      "metadata": {
        "colab": {
          "base_uri": "https://localhost:8080/"
        },
        "id": "ZnHjtWNo35l2",
        "outputId": "eb9e81ee-6e6d-44ce-defd-89c85233e5bf"
      },
      "execution_count": 7,
      "outputs": [
        {
          "output_type": "stream",
          "name": "stdout",
          "text": [
            "Path to dataset files: /kaggle/input/animefacedataset\n"
          ]
        }
      ]
    },
    {
      "cell_type": "code",
      "source": [
        "import os\n",
        "print(\"Files in path:\")\n",
        "print(os.listdir(path))\n"
      ],
      "metadata": {
        "colab": {
          "base_uri": "https://localhost:8080/"
        },
        "id": "Zc7jN5rv8Ftb",
        "outputId": "483b8c20-97ff-405a-da30-89fdc5b65b53"
      },
      "execution_count": 8,
      "outputs": [
        {
          "output_type": "stream",
          "name": "stdout",
          "text": [
            "Files in path:\n",
            "['images']\n"
          ]
        }
      ]
    },
    {
      "cell_type": "code",
      "source": [
        "import os\n",
        "from PIL import Image\n",
        "from torchvision import transforms\n",
        "from torch.utils.data import Dataset, DataLoader\n",
        "import torch.nn as nn\n",
        "\n",
        "image_path = os.path.join(path, \"images\")  # Correct subfolder\n",
        "\n",
        "# Step 2: Dataset class\n",
        "class AnimeFaceDataset(Dataset):\n",
        "    def __init__(self, root_dir, transform=None):\n",
        "        self.root_dir = root_dir\n",
        "        self.image_paths = [os.path.join(root_dir, fname)\n",
        "                            for fname in os.listdir(root_dir)\n",
        "                            if fname.lower().endswith(('.jpg', '.jpeg', '.png'))]\n",
        "        self.transform = transform\n",
        "\n",
        "        print(f\"✅ Found {len(self.image_paths)} images in {self.root_dir}\")\n",
        "\n",
        "    def __len__(self):\n",
        "        return len(self.image_paths)\n",
        "\n",
        "    def __getitem__(self, idx):\n",
        "        img = Image.open(self.image_paths[idx]).convert(\"RGB\")\n",
        "        if self.transform:\n",
        "            img = self.transform(img)\n",
        "        return img\n",
        "\n",
        "# Step 3: Transform\n",
        "transform = transforms.Compose([\n",
        "    transforms.Resize(64),\n",
        "    transforms.CenterCrop(64),\n",
        "    transforms.ToTensor(),\n",
        "    transforms.Normalize([0.5]*3, [0.5]*3)\n",
        "])\n",
        "\n",
        "# Step 4: Load\n",
        "dataset = AnimeFaceDataset(image_path, transform)\n",
        "loader = DataLoader(dataset, batch_size=128, shuffle=True, num_workers=2)\n"
      ],
      "metadata": {
        "colab": {
          "base_uri": "https://localhost:8080/"
        },
        "id": "mLmlj7fh3SSC",
        "outputId": "0872e02c-318b-4182-8327-c80d7f7d1c25"
      },
      "execution_count": 9,
      "outputs": [
        {
          "output_type": "stream",
          "name": "stdout",
          "text": [
            "✅ Found 63565 images in /kaggle/input/animefacedataset/images\n"
          ]
        }
      ]
    },
    {
      "cell_type": "code",
      "source": [
        "class AnimeGenerator(nn.Module):\n",
        "    def __init__(self, z_dim=128, img_channels=3):\n",
        "        super().__init__()\n",
        "        self.net = nn.Sequential(\n",
        "            nn.ConvTranspose2d(z_dim, 1024, 4, 1, 0),  # 1x1 → 4x4\n",
        "            nn.BatchNorm2d(1024),\n",
        "            nn.ReLU(True),\n",
        "\n",
        "            nn.ConvTranspose2d(1024, 512, 4, 2, 1),    # 4x4 → 8x8\n",
        "            nn.BatchNorm2d(512),\n",
        "            nn.ReLU(True),\n",
        "\n",
        "            nn.ConvTranspose2d(512, 256, 4, 2, 1),     # 8x8 → 16x16\n",
        "            nn.BatchNorm2d(256),\n",
        "            nn.ReLU(True),\n",
        "\n",
        "            nn.ConvTranspose2d(256, 128, 4, 2, 1),     # 16x16 → 32x32\n",
        "            nn.BatchNorm2d(128),\n",
        "            nn.ReLU(True),\n",
        "\n",
        "            nn.ConvTranspose2d(128, img_channels, 4, 2, 1),  # 32x32 → 64x64\n",
        "            nn.Tanh()\n",
        "        )\n",
        "\n",
        "    def forward(self, z):\n",
        "        return self.net(z.view(z.size(0), z.size(1), 1, 1))\n"
      ],
      "metadata": {
        "id": "R3mcNpmn3WIE"
      },
      "execution_count": 10,
      "outputs": []
    },
    {
      "cell_type": "code",
      "source": [
        "class AnimeDiscriminator(nn.Module):\n",
        "    def __init__(self, img_channels=3):\n",
        "        super().__init__()\n",
        "        self.net = nn.Sequential(\n",
        "            nn.Conv2d(img_channels, 128, 4, 2, 1),  # 64x64 → 32x32\n",
        "            nn.LeakyReLU(0.2, inplace=True),\n",
        "\n",
        "            nn.Conv2d(128, 256, 4, 2, 1),           # 32x32 → 16x16\n",
        "            nn.BatchNorm2d(256),\n",
        "            nn.LeakyReLU(0.2, inplace=True),\n",
        "\n",
        "            nn.Conv2d(256, 512, 4, 2, 1),           # 16x16 → 8x8\n",
        "            nn.BatchNorm2d(512),\n",
        "            nn.LeakyReLU(0.2, inplace=True),\n",
        "\n",
        "            nn.Conv2d(512, 1024, 4, 2, 1),          # 8x8 → 4x4\n",
        "            nn.BatchNorm2d(1024),\n",
        "            nn.LeakyReLU(0.2, inplace=True),\n",
        "\n",
        "            nn.Conv2d(1024, 1, 4, 1, 0),            # 4x4 → 1x1\n",
        "            nn.Sigmoid()\n",
        "        )\n",
        "\n",
        "    def forward(self, x):\n",
        "        return self.net(x).view(-1, 1).squeeze(1)\n"
      ],
      "metadata": {
        "id": "_tvocd-c3Y2u"
      },
      "execution_count": 11,
      "outputs": []
    },
    {
      "cell_type": "code",
      "source": [
        "import torch\n",
        "import torch.nn as nn\n",
        "import matplotlib.pyplot as plt\n",
        "import torchvision.utils as vutils\n",
        "\n",
        "# Assuming AnimeGenerator and AnimeDiscriminator are already defined\n",
        "# with AnimeGenerator(z_dim=128) and AnimeDiscriminator()\n",
        "\n",
        "z_dim = 128\n",
        "device = 'cuda' if torch.cuda.is_available() else 'cpu'\n",
        "\n",
        "G = AnimeGenerator(z_dim=z_dim).to(device)\n",
        "D = AnimeDiscriminator().to(device)\n",
        "\n",
        "loss_fn = nn.BCELoss()\n",
        "opt_G = torch.optim.Adam(G.parameters(), lr=0.0002, betas=(0.5, 0.999))\n",
        "opt_D = torch.optim.Adam(D.parameters(), lr=0.0002, betas=(0.5, 0.999))\n",
        "\n",
        "fixed_noise = torch.randn(1, z_dim, device=device)\n",
        "\n",
        "# === Train loop ===\n",
        "G.train()\n",
        "D.train()\n",
        "for epoch in range(5):\n",
        "    for batch_idx, real_imgs in enumerate(loader):\n",
        "        real_imgs = real_imgs.to(device)\n",
        "        batch_size = real_imgs.size(0)\n",
        "\n",
        "        # Labels\n",
        "        real_labels = torch.ones(batch_size, device=device)\n",
        "        fake_labels = torch.zeros(batch_size, device=device)\n",
        "\n",
        "        # Discriminator update\n",
        "        noise = torch.randn(batch_size, z_dim, device=device)\n",
        "        fake_imgs = G(noise.view(batch_size, z_dim, 1, 1)).detach()\n",
        "\n",
        "        D_real = D(real_imgs)\n",
        "        D_fake = D(fake_imgs)\n",
        "\n",
        "        loss_D_real = loss_fn(D_real, real_labels)\n",
        "        loss_D_fake = loss_fn(D_fake, fake_labels)\n",
        "        loss_D = loss_D_real + loss_D_fake\n",
        "\n",
        "        opt_D.zero_grad()\n",
        "        loss_D.backward()\n",
        "        opt_D.step()\n",
        "\n",
        "        # === Train Generator ===\n",
        "        noise = torch.randn(batch_size, z_dim, device=device)\n",
        "        fake_imgs = G(noise.view(batch_size, z_dim, 1, 1))\n",
        "        D_fake = D(fake_imgs)\n",
        "        loss_G = loss_fn(D_fake, real_labels)\n",
        "\n",
        "        opt_G.zero_grad()\n",
        "        loss_G.backward()\n",
        "        opt_G.step()\n",
        "\n",
        "        if batch_idx % 50 == 0:\n",
        "            print(f\"Epoch [{epoch+1}/10] Batch [{batch_idx}/{len(loader)}] | \"\n",
        "                  f\"Loss D: {loss_D.item():.4f} | Loss G: {loss_G.item():.4f}\")\n",
        "\n",
        "# === Show 1 sample image ===\n",
        "G.eval()\n",
        "with torch.no_grad():\n",
        "    sample_img = G(fixed_noise.view(1, z_dim, 1, 1)).detach().cpu()\n",
        "    sample_img = vutils.make_grid(sample_img, normalize=True)\n",
        "    plt.figure(figsize=(4, 4))\n",
        "    plt.imshow(sample_img.permute(1, 2, 0))\n",
        "    plt.title(\"Generated Anime Face\")\n",
        "    plt.axis(\"off\")\n",
        "    plt.show()\n"
      ],
      "metadata": {
        "colab": {
          "base_uri": "https://localhost:8080/",
          "height": 1000
        },
        "id": "gH4XRiLa3wUM",
        "outputId": "530f3f56-e58e-4ee6-b7c6-b86b6ab4ee5f"
      },
      "execution_count": 17,
      "outputs": [
        {
          "output_type": "stream",
          "name": "stdout",
          "text": [
            "Epoch [1/10] Batch [0/497] | Loss D: 1.2930 | Loss G: 3.4183\n",
            "Epoch [1/10] Batch [50/497] | Loss D: 0.6910 | Loss G: 8.7646\n",
            "Epoch [1/10] Batch [100/497] | Loss D: 1.6668 | Loss G: 5.6487\n",
            "Epoch [1/10] Batch [150/497] | Loss D: 1.1924 | Loss G: 3.9216\n",
            "Epoch [1/10] Batch [200/497] | Loss D: 1.6441 | Loss G: 9.8367\n",
            "Epoch [1/10] Batch [250/497] | Loss D: 0.8015 | Loss G: 2.5585\n",
            "Epoch [1/10] Batch [300/497] | Loss D: 0.7524 | Loss G: 3.6929\n",
            "Epoch [1/10] Batch [350/497] | Loss D: 0.7940 | Loss G: 3.0972\n",
            "Epoch [1/10] Batch [400/497] | Loss D: 1.4889 | Loss G: 7.2512\n",
            "Epoch [1/10] Batch [450/497] | Loss D: 0.5876 | Loss G: 6.3519\n",
            "Epoch [2/10] Batch [0/497] | Loss D: 1.3726 | Loss G: 3.4675\n",
            "Epoch [2/10] Batch [50/497] | Loss D: 0.9598 | Loss G: 5.2855\n",
            "Epoch [2/10] Batch [100/497] | Loss D: 0.7625 | Loss G: 7.8982\n",
            "Epoch [2/10] Batch [150/497] | Loss D: 0.8987 | Loss G: 7.4357\n",
            "Epoch [2/10] Batch [200/497] | Loss D: 1.9217 | Loss G: 4.7010\n",
            "Epoch [2/10] Batch [250/497] | Loss D: 0.1275 | Loss G: 4.5319\n",
            "Epoch [2/10] Batch [300/497] | Loss D: 0.6002 | Loss G: 3.8048\n",
            "Epoch [2/10] Batch [350/497] | Loss D: 0.4853 | Loss G: 6.6556\n",
            "Epoch [2/10] Batch [400/497] | Loss D: 0.2117 | Loss G: 5.6417\n",
            "Epoch [2/10] Batch [450/497] | Loss D: 0.2069 | Loss G: 5.5624\n",
            "Epoch [3/10] Batch [0/497] | Loss D: 0.5200 | Loss G: 5.0277\n",
            "Epoch [3/10] Batch [50/497] | Loss D: 1.2190 | Loss G: 9.7522\n",
            "Epoch [3/10] Batch [100/497] | Loss D: 0.4686 | Loss G: 5.0875\n",
            "Epoch [3/10] Batch [150/497] | Loss D: 2.3182 | Loss G: 10.1345\n",
            "Epoch [3/10] Batch [200/497] | Loss D: 1.1827 | Loss G: 9.3808\n",
            "Epoch [3/10] Batch [250/497] | Loss D: 2.9015 | Loss G: 6.0885\n",
            "Epoch [3/10] Batch [300/497] | Loss D: 0.2419 | Loss G: 5.0673\n",
            "Epoch [3/10] Batch [350/497] | Loss D: 0.2560 | Loss G: 3.4678\n",
            "Epoch [3/10] Batch [400/497] | Loss D: 1.5188 | Loss G: 13.0705\n",
            "Epoch [3/10] Batch [450/497] | Loss D: 1.2798 | Loss G: 2.1403\n",
            "Epoch [4/10] Batch [0/497] | Loss D: 0.3883 | Loss G: 5.6702\n",
            "Epoch [4/10] Batch [50/497] | Loss D: 0.6712 | Loss G: 7.0761\n",
            "Epoch [4/10] Batch [100/497] | Loss D: 0.2593 | Loss G: 4.2632\n",
            "Epoch [4/10] Batch [150/497] | Loss D: 0.1600 | Loss G: 3.6941\n",
            "Epoch [4/10] Batch [200/497] | Loss D: 0.2450 | Loss G: 6.7019\n",
            "Epoch [4/10] Batch [250/497] | Loss D: 0.4646 | Loss G: 3.3857\n",
            "Epoch [4/10] Batch [300/497] | Loss D: 0.2198 | Loss G: 4.6392\n",
            "Epoch [4/10] Batch [350/497] | Loss D: 0.3948 | Loss G: 5.2014\n",
            "Epoch [4/10] Batch [400/497] | Loss D: 0.2643 | Loss G: 3.7222\n",
            "Epoch [4/10] Batch [450/497] | Loss D: 0.2703 | Loss G: 7.5021\n",
            "Epoch [5/10] Batch [0/497] | Loss D: 0.2969 | Loss G: 5.9222\n",
            "Epoch [5/10] Batch [50/497] | Loss D: 0.1363 | Loss G: 2.4115\n",
            "Epoch [5/10] Batch [100/497] | Loss D: 0.3091 | Loss G: 3.9650\n",
            "Epoch [5/10] Batch [150/497] | Loss D: 0.1907 | Loss G: 5.7972\n",
            "Epoch [5/10] Batch [200/497] | Loss D: 0.2330 | Loss G: 4.5119\n",
            "Epoch [5/10] Batch [250/497] | Loss D: 0.2320 | Loss G: 7.5924\n",
            "Epoch [5/10] Batch [300/497] | Loss D: 0.4949 | Loss G: 3.5749\n",
            "Epoch [5/10] Batch [350/497] | Loss D: 0.0709 | Loss G: 4.6486\n",
            "Epoch [5/10] Batch [400/497] | Loss D: 0.1984 | Loss G: 5.4950\n",
            "Epoch [5/10] Batch [450/497] | Loss D: 0.2057 | Loss G: 8.4615\n"
          ]
        },
        {
          "output_type": "display_data",
          "data": {
            "text/plain": [
              "<Figure size 400x400 with 1 Axes>"
            ],
            "image/png": "[encoded data removed]"
          },
          "metadata": {}
        }
      ]
    }
  ]
}